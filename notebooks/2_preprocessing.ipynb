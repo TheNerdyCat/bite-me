{
 "cells": [
  {
   "cell_type": "markdown",
   "id": "1f717b57",
   "metadata": {},
   "source": [
    "# BiteMe | Preprocessing\n",
    "\n",
    " - Preprocessing pipeline\n",
    " - Train/test split\n",
    " - Augmentations\n",
    " - Write augmented images into train/label/img and test/label/img\n",
    " - Write metadata including processed images. Write images first with augs, then rename images to hash, then create metadata.\n",
    " \n",
    " "
   ]
  },
  {
   "cell_type": "code",
   "execution_count": null,
   "id": "41ba554c",
   "metadata": {},
   "outputs": [],
   "source": []
  }
 ],
 "metadata": {
  "kernelspec": {
   "display_name": "Python 3",
   "language": "python",
   "name": "python3"
  },
  "language_info": {
   "codemirror_mode": {
    "name": "ipython",
    "version": 3
   },
   "file_extension": ".py",
   "mimetype": "text/x-python",
   "name": "python",
   "nbconvert_exporter": "python",
   "pygments_lexer": "ipython3",
   "version": "3.6.8"
  }
 },
 "nbformat": 4,
 "nbformat_minor": 5
}
