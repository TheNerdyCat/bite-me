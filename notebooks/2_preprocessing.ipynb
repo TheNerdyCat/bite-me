{
 "cells": [
  {
   "cell_type": "markdown",
   "id": "1f717b57",
   "metadata": {},
   "source": [
    "# BiteMe | Preprocessing\n",
    "\n",
    "The purpose of this notebook is to create the image preprocessing pipeline to be used during train/test time. The output will be functions we can include in the `preprocessing.py` script. \n",
    "\n",
    "TODO: \n",
    " - Preprocessing pipeline\n",
    " - Train/test split\n",
    " - Augmentations\n",
    " - Write augmented images into `preprocessed/train/<label>/...` and `preprocessed/test/<label>/...`\n",
    " - Write metadata including processed images. Write images first with augs, then rename images to hash, then create metadata.\n",
    "  - [Histogram Equalization and Adaptive Histogram Equalization (CLAHE)](https://pyimagesearch.com/2021/02/01/opencv-histogram-equalization-and-adaptive-histogram-equalization-clahe/)\n",
    " - "
   ]
  },
  {
   "cell_type": "code",
   "execution_count": 1,
   "id": "51da9117",
   "metadata": {},
   "outputs": [],
   "source": [
    "import pandas as pd\n",
    "import numpy as np\n",
    "import os\n",
    "import sys\n",
    "\n",
    "from tqdm import tqdm\n",
    "\n",
    "import cv2\n",
    "import albumentations as A\n",
    "import imgaug as ia\n",
    "import imgaug.augmenters as iaa\n",
    "\n",
    "sys.path.append(\"..\")\n",
    "from helpers import read_images, get_train_test_split, get_augs, augs\n",
    "from constants import ROWS, COLS, CHANNELS, SEED, TEST_SIZE, VERBOSE\n",
    "\n",
    "np.random.seed(SEED)\n",
    "ia.seed(SEED)"
   ]
  },
  {
   "cell_type": "code",
   "execution_count": 2,
   "id": "cbcacc13",
   "metadata": {},
   "outputs": [
    {
     "data": {
      "text/html": [
       "<div>\n",
       "<style scoped>\n",
       "    .dataframe tbody tr th:only-of-type {\n",
       "        vertical-align: middle;\n",
       "    }\n",
       "\n",
       "    .dataframe tbody tr th {\n",
       "        vertical-align: top;\n",
       "    }\n",
       "\n",
       "    .dataframe thead th {\n",
       "        text-align: right;\n",
       "    }\n",
       "</style>\n",
       "<table border=\"1\" class=\"dataframe\">\n",
       "  <thead>\n",
       "    <tr style=\"text-align: right;\">\n",
       "      <th></th>\n",
       "      <th>img_name</th>\n",
       "      <th>img_path</th>\n",
       "      <th>label</th>\n",
       "    </tr>\n",
       "  </thead>\n",
       "  <tbody>\n",
       "    <tr>\n",
       "      <th>0</th>\n",
       "      <td>7059b14d2aa03ed6c4de11afa32591995181d31c.jpg</td>\n",
       "      <td>../data/cleaned/none/7059b14d2aa03ed6c4de11afa...</td>\n",
       "      <td>none</td>\n",
       "    </tr>\n",
       "    <tr>\n",
       "      <th>1</th>\n",
       "      <td>ea1b100b581fcdb7ddfae52cc62347a99e304ba4.jpg</td>\n",
       "      <td>../data/cleaned/none/ea1b100b581fcdb7ddfae52cc...</td>\n",
       "      <td>none</td>\n",
       "    </tr>\n",
       "    <tr>\n",
       "      <th>2</th>\n",
       "      <td>1a1442990ff143b7560e5757d9f76d37ab007f48.jpg</td>\n",
       "      <td>../data/cleaned/none/1a1442990ff143b7560e5757d...</td>\n",
       "      <td>none</td>\n",
       "    </tr>\n",
       "    <tr>\n",
       "      <th>3</th>\n",
       "      <td>6eac051b9c45ff6821ec8675216f371711b7cea9.jpg</td>\n",
       "      <td>../data/cleaned/none/6eac051b9c45ff6821ec86752...</td>\n",
       "      <td>none</td>\n",
       "    </tr>\n",
       "    <tr>\n",
       "      <th>4</th>\n",
       "      <td>fc72767f8520df9b2b83941077dc0ee013eb9399.jpg</td>\n",
       "      <td>../data/cleaned/none/fc72767f8520df9b2b8394107...</td>\n",
       "      <td>none</td>\n",
       "    </tr>\n",
       "  </tbody>\n",
       "</table>\n",
       "</div>"
      ],
      "text/plain": [
       "                                       img_name  \\\n",
       "0  7059b14d2aa03ed6c4de11afa32591995181d31c.jpg   \n",
       "1  ea1b100b581fcdb7ddfae52cc62347a99e304ba4.jpg   \n",
       "2  1a1442990ff143b7560e5757d9f76d37ab007f48.jpg   \n",
       "3  6eac051b9c45ff6821ec8675216f371711b7cea9.jpg   \n",
       "4  fc72767f8520df9b2b83941077dc0ee013eb9399.jpg   \n",
       "\n",
       "                                            img_path label  \n",
       "0  ../data/cleaned/none/7059b14d2aa03ed6c4de11afa...  none  \n",
       "1  ../data/cleaned/none/ea1b100b581fcdb7ddfae52cc...  none  \n",
       "2  ../data/cleaned/none/1a1442990ff143b7560e5757d...  none  \n",
       "3  ../data/cleaned/none/6eac051b9c45ff6821ec86752...  none  \n",
       "4  ../data/cleaned/none/fc72767f8520df9b2b8394107...  none  "
      ]
     },
     "execution_count": 2,
     "metadata": {},
     "output_type": "execute_result"
    }
   ],
   "source": [
    "# Define directories\n",
    "base_dir_path = \"../\"\n",
    "\n",
    "data_dir_path = os.path.join(base_dir_path, \"data\")\n",
    "data_cleaned_dir_path = os.path.join(data_dir_path, \"cleaned\")\n",
    "data_preprocessed_dir_path = os.path.join(data_dir_path, \"preprocessed\")\n",
    "\n",
    "data_dir = os.listdir(data_dir_path)\n",
    "data_cleaned_dir = os.listdir(data_cleaned_dir_path)\n",
    "\n",
    "metadata_cleaned_path = os.path.join(data_cleaned_dir_path, \"metadata.csv\")\n",
    "metadata = pd.read_csv(metadata_cleaned_path)\n",
    "\n",
    "# Write processed images to disk\n",
    "write_preprocessed_images = False\n",
    "\n",
    "metadata.head()"
   ]
  },
  {
   "cell_type": "markdown",
   "id": "28a385b9",
   "metadata": {},
   "source": [
    "## Split Data into Train/Test"
   ]
  },
  {
   "cell_type": "code",
   "execution_count": 3,
   "id": "10daea03",
   "metadata": {},
   "outputs": [
    {
     "name": "stdout",
     "output_type": "stream",
     "text": [
      "192 train images\n",
      "22 test images\n",
      "\n",
      "TRAIN IMAGE COUNTS\n",
      "------------------\n",
      "tick        26\n",
      "mosquito    25\n",
      "horsefly    25\n",
      "bedbug      25\n",
      "none        25\n",
      "ant         23\n",
      "bee         22\n",
      "mite        21\n",
      "Name: label, dtype: int64\n",
      "\n",
      "TEST IMAGE COUNTS\n",
      "------------------\n",
      "bedbug      3\n",
      "tick        3\n",
      "ant         3\n",
      "horsefly    3\n",
      "mosquito    3\n",
      "none        3\n",
      "mite        2\n",
      "bee         2\n",
      "Name: label, dtype: int64\n"
     ]
    }
   ],
   "source": [
    "# Split data into train and test\n",
    "train_idx, test_idx, y_train, y_test = get_train_test_split(\n",
    "    metadata_df=metadata, \n",
    "    test_size=TEST_SIZE,\n",
    "    verbose=VERBOSE\n",
    ")"
   ]
  },
  {
   "cell_type": "code",
   "execution_count": 4,
   "id": "22bee324",
   "metadata": {},
   "outputs": [],
   "source": [
    "# Re-write metadata csv for preprocessed\n",
    "# WILL NEED TO UPDATE IF THERE WE GENERATE SYNTHETIC IMAGES\n",
    "metadata[\"split\"] = \"train\"\n",
    "metadata[\"split\"][test_idx] = \"test\"\n",
    "\n",
    "metadata_preprocessed_path = os.path.join(data_preprocessed_dir_path, \"metadata.csv\")\n",
    "metadata.to_csv(metadata_preprocessed_path, index=False)"
   ]
  },
  {
   "cell_type": "markdown",
   "id": "1b5ea31e",
   "metadata": {},
   "source": [
    "## Create Preprocessing Pipeline"
   ]
  },
  {
   "cell_type": "code",
   "execution_count": 5,
   "id": "dca51ff9",
   "metadata": {},
   "outputs": [
    {
     "name": "stdout",
     "output_type": "stream",
     "text": [
      "Reading images from: ../data/cleaned\n",
      "Rows set to 512\n",
      "Columns set to 512\n",
      "Channels set to 3\n",
      "Writing images is set to: False\n",
      "Reading images...\n"
     ]
    },
    {
     "name": "stderr",
     "output_type": "stream",
     "text": [
      "100%|████████████████████████████████████████████████████████████████████████████████████████████████████████████| 28/28 [00:00<00:00, 184.73it/s]\n",
      "100%|█████████████████████████████████████████████████████████████████████████████████████████████████████████████| 29/29 [00:00<00:00, 95.78it/s]\n",
      "100%|█████████████████████████████████████████████████████████████████████████████████████████████████████████████| 23/23 [00:00<00:00, 67.03it/s]\n",
      "100%|█████████████████████████████████████████████████████████████████████████████████████████████████████████████| 28/28 [00:00<00:00, 52.04it/s]\n",
      "100%|█████████████████████████████████████████████████████████████████████████████████████████████████████████████| 28/28 [00:00<00:00, 41.56it/s]\n",
      "100%|█████████████████████████████████████████████████████████████████████████████████████████████████████████████| 24/24 [00:00<00:00, 35.13it/s]\n",
      "100%|█████████████████████████████████████████████████████████████████████████████████████████████████████████████| 28/28 [00:00<00:00, 30.42it/s]\n",
      "100%|█████████████████████████████████████████████████████████████████████████████████████████████████████████████| 26/26 [00:00<00:00, 26.62it/s]\n"
     ]
    },
    {
     "name": "stdout",
     "output_type": "stream",
     "text": [
      "Image reading complete.\n",
      "Image array shape: (214, 512, 512, 3)\n"
     ]
    }
   ],
   "source": [
    "img_array = read_images(\n",
    "    data_dir_path=data_cleaned_dir_path, \n",
    "    rows=ROWS, \n",
    "    cols=COLS, \n",
    "    channels=CHANNELS, \n",
    "    write_images=False, \n",
    "    output_data_dir_path=None,\n",
    "    verbose=VERBOSE\n",
    ")\n",
    "\n",
    "# Split images into train/test\n",
    "X_train = img_array[train_idx]\n",
    "X_test = img_array[test_idx]    "
   ]
  },
  {
   "cell_type": "code",
   "execution_count": 6,
   "id": "9cce05ba",
   "metadata": {},
   "outputs": [],
   "source": [
    "if write_preprocessed_images == True:\n",
    "    # Make train/test dirs for preprocessed images\n",
    "    if \"train\" not in os.listdir(data_preprocessed_dir_path):\n",
    "        os.mkdir(os.path.join(data_preprocessed_dir_path, \"train\"))\n",
    "    if \"test\" not in os.listdir(data_preprocessed_dir_path):\n",
    "        os.mkdir(os.path.join(data_preprocessed_dir_path, \"test\"))\n",
    "\n",
    "\n",
    "    # Write preprocessed images (split) to preprocessed directory\n",
    "    for idx in tqdm(metadata.index):\n",
    "        if metadata[\"split\"][idx] == \"train\":\n",
    "            img_dir_path = os.path.join(data_preprocessed_dir_path, \"train\", metadata[\"label\"][idx])\n",
    "            # If doesn't exist, create label directory\n",
    "            if not os.path.isdir(img_dir_path):\n",
    "                os.mkdir(img_dir_path)\n",
    "            # Create img write path\n",
    "            img_path_write = os.path.join(img_dir_path, metadata[\"img_name\"][idx])\n",
    "            # Write to train img directory\n",
    "            cv2.imwrite(img_path_write, img_array[idx])\n",
    "            \n",
    "        elif metadata[\"split\"][idx] == \"test\":\n",
    "            # Write to test directory\n",
    "            img_dir_path = os.path.join(data_preprocessed_dir_path, \"test\", metadata[\"label\"][idx])\n",
    "            # If doesn't exist, create label directory\n",
    "            if not os.path.isdir(img_dir_path):\n",
    "                os.mkdir(img_dir_path)\n",
    "            # Create img write path\n",
    "            img_path_write = os.path.join(img_dir_path, metadata[\"img_name\"][idx])\n",
    "            # Write to train img directory\n",
    "            cv2.imwrite(img_path_write, img_array[idx])"
   ]
  },
  {
   "cell_type": "markdown",
   "id": "e1ad5607",
   "metadata": {},
   "source": [
    "## Run Preprocessing Pipeline"
   ]
  },
  {
   "cell_type": "code",
   "execution_count": 7,
   "id": "d0e969bb",
   "metadata": {
    "scrolled": false
   },
   "outputs": [
    {
     "name": "stdout",
     "output_type": "stream",
     "text": [
      "Fliplr(name=UnnamedFliplr, parameters=[Deterministic(int 1)], deterministic=False)\n",
      "Flipud(name=UnnamedFlipud, parameters=[Deterministic(int 1)], deterministic=False)\n",
      "GaussianBlur(name=UnnamedGaussianBlur, parameters=[Deterministic(float 6.00000000)], deterministic=False)\n",
      "AverageBlur(name=UnnamedAverageBlur, parameters=[Deterministic(int 20)], deterministic=False)\n",
      "MotionBlur(name=UnnamedMotionBlur, parameters=[<imgaug.augmenters.blur._MotionBlurMatrixGenerator object at 0x7f5c3e69ae00>, function], deterministic=False)\n",
      "MultiplyAndAddToBrightness(mul=Multiply(name=UnnamedMultiply, parameters=[Deterministic(float 0.50000000), Deterministic(int 0)], deterministic=False), add=Identity(name=UnnamedIdentity, parameters=[], deterministic=False), to_colorspace=Choice(a=['YCrCb', 'HSV', 'HLS', 'Lab', 'Luv', 'YUV'], replace=True, p=None), from_colorspace=RGB, random_order=False, name=UnnamedMultiplyBrightness, deterministic=False)\n",
      "WithHueAndSaturation(from_colorspace=RGB, name=UnnamedMultiplyHue, children=[Sequential(name=UnnamedMultiplyHue-then, random_order=False, children=[WithChannels(channels=[0], name=None-WithChannelsHue, children=Sequential(name=None-WithChannelsHue-then, random_order=False, children=[Multiply(name=None-MultiplyHue, parameters=[Deterministic(float 0.80000000), Deterministic(int 0)], deterministic=False)], deterministic=False), deterministic=False)], deterministic=False)], deterministic=False)\n",
      "WithHueAndSaturation(from_colorspace=RGB, name=UnnamedMultiplySaturation, children=[Sequential(name=UnnamedMultiplySaturation-then, random_order=False, children=[WithChannels(channels=[1], name=None-WithChannelsSaturation, children=Sequential(name=None-WithChannelsSaturation-then, random_order=False, children=[Multiply(name=None-MultiplySaturation, parameters=[Deterministic(float 0.50000000), Deterministic(int 0)], deterministic=False)], deterministic=False), deterministic=False)], deterministic=False)], deterministic=False)\n",
      "Grayscale(name=UnnamedGrayscale, parameters=[Deterministic(GRAY), Deterministic(float 0.70000000)], deterministic=False)\n",
      "GammaContrast(name=UnnamedGammaContrast, parameters=[Deterministic(float 2.00000000)], deterministic=False)\n",
      "SigmoidContrast(name=UnnamedSigmoidContrast, parameters=[Deterministic(float 9.00000000), Uniform(Deterministic(float 0.30000000), Deterministic(float 0.60000000))], deterministic=False)\n",
      "LinearContrast(name=UnnamedLinearContrast, parameters=[Deterministic(float 2.00000000)], deterministic=False)\n",
      "Affine(name=UnnamedAffine, parameters=[Deterministic(float 0.80000000), (Deterministic(int 0), None, 'px'), Deterministic(float 0.00000000), Deterministic(float 0.00000000), Deterministic(int 1), Deterministic(int 0), Deterministic(constant), auto, False], deterministic=False)\n",
      "ScaleX(name=UnnamedScaleX, parameters=[(Deterministic(float 0.80000000), Deterministic(float 1.00000000)), (Deterministic(int 0), None, 'px'), Deterministic(float 0.00000000), Deterministic(float 0.00000000), Deterministic(int 1), Deterministic(int 0), Deterministic(constant), auto, False], deterministic=False)\n",
      "ScaleY(name=UnnamedScaleY, parameters=[(Deterministic(float 1.00000000), Deterministic(float 0.80000000)), (Deterministic(int 0), None, 'px'), Deterministic(float 0.00000000), Deterministic(float 0.00000000), Deterministic(int 1), Deterministic(int 0), Deterministic(constant), auto, False], deterministic=False)\n",
      "TranslateX(name=UnnamedTranslateX, parameters=[Deterministic(float 1.00000000), (Deterministic(float 0.10000000), Deterministic(int 0), 'percent'), Deterministic(float 0.00000000), Deterministic(float 0.00000000), Deterministic(int 1), Deterministic(int 0), Deterministic(constant), auto, False], deterministic=False)\n",
      "TranslateY(name=UnnamedTranslateY, parameters=[Deterministic(float 1.00000000), (Deterministic(int 0), Deterministic(float 0.10000000), 'percent'), Deterministic(float 0.00000000), Deterministic(float 0.00000000), Deterministic(int 1), Deterministic(int 0), Deterministic(constant), auto, False], deterministic=False)\n",
      "Rotate(name=UnnamedRotate, parameters=[Deterministic(float 1.00000000), (Deterministic(int 0), None, 'px'), Deterministic(float 45.00000000), Deterministic(float 0.00000000), Deterministic(int 1), Deterministic(int 0), Deterministic(constant), auto, False], deterministic=False)\n",
      "ShearX(name=UnnamedShearX, parameters=[Deterministic(float 1.00000000), (Deterministic(int 0), None, 'px'), Deterministic(float 0.00000000), (Deterministic(float 20.00000000), Deterministic(int 0)), Deterministic(int 1), Deterministic(int 0), Deterministic(constant), auto, False], deterministic=False)\n",
      "ShearY(name=UnnamedShearY, parameters=[Deterministic(float 1.00000000), (Deterministic(int 0), None, 'px'), Deterministic(float 0.00000000), (Deterministic(int 0), Deterministic(float 20.00000000)), Deterministic(int 1), Deterministic(int 0), Deterministic(constant), auto, False], deterministic=False)\n",
      "GaussianNoise(name=UnnamedGaussianNoise, parameters=[Deterministic(int 5)], deterministic=False)\n",
      "ShotNoise(name=UnnamedShotNoise, parameters=[Deterministic(int 5)], deterministic=False)\n",
      "ImpulseNoise(name=UnnamedImpulseNoise, parameters=[Binomial(Deterministic(float 0.10000000)), Multiply(Beta(Deterministic(float 0.50000000), Deterministic(float 0.50000000)), Deterministic(int 255), False), Deterministic(int 1)], deterministic=False)\n",
      "SpeckleNoise(name=UnnamedSpeckleNoise, parameters=[Deterministic(int 5)], deterministic=False)\n",
      "DefocusBlur(name=UnnamedDefocusBlur, parameters=[Deterministic(int 5)], deterministic=False)\n",
      "ZoomBlur(name=UnnamedZoomBlur, parameters=[Deterministic(int 4)], deterministic=False)\n"
     ]
    },
    {
     "ename": "Exception",
     "evalue": "Expected int, tuple of two int, list of int or StochasticParameter for severity, got <class 'float'>.",
     "output_type": "error",
     "traceback": [
      "\u001b[0;31m---------------------------------------------------------------------------\u001b[0m",
      "\u001b[0;31mException\u001b[0m                                 Traceback (most recent call last)",
      "Input \u001b[0;32mIn [7]\u001b[0m, in \u001b[0;36m<cell line: 2>\u001b[0;34m()\u001b[0m\n\u001b[1;32m      1\u001b[0m \u001b[38;5;66;03m# Example preprocessing run\u001b[39;00m\n\u001b[0;32m----> 2\u001b[0m X_train_aug, y_train_aug \u001b[38;5;241m=\u001b[39m \u001b[43mget_augs\u001b[49m\u001b[43m(\u001b[49m\n\u001b[1;32m      3\u001b[0m \u001b[43m    \u001b[49m\u001b[43mimgs_raw\u001b[49m\u001b[38;5;241;43m=\u001b[39;49m\u001b[43mX_train\u001b[49m\u001b[43m,\u001b[49m\u001b[43m \u001b[49m\n\u001b[1;32m      4\u001b[0m \u001b[43m    \u001b[49m\u001b[43mlabels_raw\u001b[49m\u001b[38;5;241;43m=\u001b[39;49m\u001b[43my_train\u001b[49m\u001b[43m,\u001b[49m\n\u001b[1;32m      5\u001b[0m \u001b[43m    \u001b[49m\u001b[43maugs\u001b[49m\u001b[38;5;241;43m=\u001b[39;49m\u001b[43maugs\u001b[49m\u001b[43m,\u001b[49m\n\u001b[1;32m      6\u001b[0m \u001b[43m    \u001b[49m\u001b[43mkeep_originals\u001b[49m\u001b[38;5;241;43m=\u001b[39;49m\u001b[38;5;28;43;01mTrue\u001b[39;49;00m\u001b[43m,\u001b[49m\n\u001b[1;32m      7\u001b[0m \u001b[43m    \u001b[49m\u001b[43mverbose\u001b[49m\u001b[38;5;241;43m=\u001b[39;49m\u001b[43mVERBOSE\u001b[49m\n\u001b[1;32m      8\u001b[0m \u001b[43m)\u001b[49m\n",
      "File \u001b[0;32m~/Documents/bite-me/notebooks/../helpers.py:297\u001b[0m, in \u001b[0;36mget_augs\u001b[0;34m(imgs_raw, labels_raw, augs, keep_originals, verbose)\u001b[0m\n\u001b[1;32m    295\u001b[0m     \u001b[38;5;66;03m# Get args dictionary for augmentation\u001b[39;00m\n\u001b[1;32m    296\u001b[0m     args \u001b[38;5;241m=\u001b[39m augs[aug_name][\u001b[38;5;124m\"\u001b[39m\u001b[38;5;124margs\u001b[39m\u001b[38;5;124m\"\u001b[39m]\n\u001b[0;32m--> 297\u001b[0m     \u001b[38;5;28mprint\u001b[39m(\u001b[43maug\u001b[49m\u001b[43m(\u001b[49m\u001b[38;5;241;43m*\u001b[39;49m\u001b[38;5;241;43m*\u001b[39;49m\u001b[43margs\u001b[49m\u001b[43m)\u001b[49m)\n\u001b[1;32m    298\u001b[0m     augs_list\u001b[38;5;241m.\u001b[39mappend(aug(\u001b[38;5;241m*\u001b[39m\u001b[38;5;241m*\u001b[39margs))\n\u001b[1;32m    299\u001b[0m num_augs \u001b[38;5;241m=\u001b[39m \u001b[38;5;28mlen\u001b[39m(augs_list)\n",
      "File \u001b[0;32m~/miniconda3/envs/biteme/lib/python3.10/site-packages/imgaug/augmenters/imgcorruptlike.py:1865\u001b[0m, in \u001b[0;36mContrast.__init__\u001b[0;34m(self, severity, seed, name, random_state, deterministic)\u001b[0m\n\u001b[1;32m   1862\u001b[0m \u001b[38;5;28;01mdef\u001b[39;00m \u001b[38;5;21m__init__\u001b[39m(\u001b[38;5;28mself\u001b[39m, severity\u001b[38;5;241m=\u001b[39m(\u001b[38;5;241m1\u001b[39m, \u001b[38;5;241m5\u001b[39m),\n\u001b[1;32m   1863\u001b[0m              seed\u001b[38;5;241m=\u001b[39m\u001b[38;5;28;01mNone\u001b[39;00m, name\u001b[38;5;241m=\u001b[39m\u001b[38;5;28;01mNone\u001b[39;00m,\n\u001b[1;32m   1864\u001b[0m              random_state\u001b[38;5;241m=\u001b[39m\u001b[38;5;124m\"\u001b[39m\u001b[38;5;124mdeprecated\u001b[39m\u001b[38;5;124m\"\u001b[39m, deterministic\u001b[38;5;241m=\u001b[39m\u001b[38;5;124m\"\u001b[39m\u001b[38;5;124mdeprecated\u001b[39m\u001b[38;5;124m\"\u001b[39m):\n\u001b[0;32m-> 1865\u001b[0m     \u001b[38;5;28;43msuper\u001b[39;49m\u001b[43m(\u001b[49m\u001b[43mContrast\u001b[49m\u001b[43m,\u001b[49m\u001b[43m \u001b[49m\u001b[38;5;28;43mself\u001b[39;49m\u001b[43m)\u001b[49m\u001b[38;5;241;43m.\u001b[39;49m\u001b[38;5;21;43m__init__\u001b[39;49m\u001b[43m(\u001b[49m\n\u001b[1;32m   1866\u001b[0m \u001b[43m        \u001b[49m\u001b[43mapply_contrast\u001b[49m\u001b[43m,\u001b[49m\u001b[43m \u001b[49m\u001b[43mseverity\u001b[49m\u001b[43m,\u001b[49m\n\u001b[1;32m   1867\u001b[0m \u001b[43m        \u001b[49m\u001b[43mseed\u001b[49m\u001b[38;5;241;43m=\u001b[39;49m\u001b[43mseed\u001b[49m\u001b[43m,\u001b[49m\u001b[43m \u001b[49m\u001b[43mname\u001b[49m\u001b[38;5;241;43m=\u001b[39;49m\u001b[43mname\u001b[49m\u001b[43m,\u001b[49m\n\u001b[1;32m   1868\u001b[0m \u001b[43m        \u001b[49m\u001b[43mrandom_state\u001b[49m\u001b[38;5;241;43m=\u001b[39;49m\u001b[43mrandom_state\u001b[49m\u001b[43m,\u001b[49m\u001b[43m \u001b[49m\u001b[43mdeterministic\u001b[49m\u001b[38;5;241;43m=\u001b[39;49m\u001b[43mdeterministic\u001b[49m\u001b[43m)\u001b[49m\n",
      "File \u001b[0;32m~/miniconda3/envs/biteme/lib/python3.10/site-packages/imgaug/augmenters/imgcorruptlike.py:1014\u001b[0m, in \u001b[0;36m_ImgcorruptAugmenterBase.__init__\u001b[0;34m(self, func, severity, seed, name, random_state, deterministic)\u001b[0m\n\u001b[1;32m   1009\u001b[0m \u001b[38;5;28msuper\u001b[39m(_ImgcorruptAugmenterBase, \u001b[38;5;28mself\u001b[39m)\u001b[38;5;241m.\u001b[39m\u001b[38;5;21m__init__\u001b[39m(\n\u001b[1;32m   1010\u001b[0m     seed\u001b[38;5;241m=\u001b[39mseed, name\u001b[38;5;241m=\u001b[39mname,\n\u001b[1;32m   1011\u001b[0m     random_state\u001b[38;5;241m=\u001b[39mrandom_state, deterministic\u001b[38;5;241m=\u001b[39mdeterministic)\n\u001b[1;32m   1013\u001b[0m \u001b[38;5;28mself\u001b[39m\u001b[38;5;241m.\u001b[39mfunc \u001b[38;5;241m=\u001b[39m func\n\u001b[0;32m-> 1014\u001b[0m \u001b[38;5;28mself\u001b[39m\u001b[38;5;241m.\u001b[39mseverity \u001b[38;5;241m=\u001b[39m \u001b[43miap\u001b[49m\u001b[38;5;241;43m.\u001b[39;49m\u001b[43mhandle_discrete_param\u001b[49m\u001b[43m(\u001b[49m\n\u001b[1;32m   1015\u001b[0m \u001b[43m    \u001b[49m\u001b[43mseverity\u001b[49m\u001b[43m,\u001b[49m\u001b[43m \u001b[49m\u001b[38;5;124;43m\"\u001b[39;49m\u001b[38;5;124;43mseverity\u001b[39;49m\u001b[38;5;124;43m\"\u001b[39;49m\u001b[43m,\u001b[49m\u001b[43m \u001b[49m\u001b[43mvalue_range\u001b[49m\u001b[38;5;241;43m=\u001b[39;49m\u001b[43m(\u001b[49m\u001b[38;5;241;43m1\u001b[39;49m\u001b[43m,\u001b[49m\u001b[43m \u001b[49m\u001b[38;5;241;43m5\u001b[39;49m\u001b[43m)\u001b[49m\u001b[43m,\u001b[49m\u001b[43m \u001b[49m\u001b[43mtuple_to_uniform\u001b[49m\u001b[38;5;241;43m=\u001b[39;49m\u001b[38;5;28;43;01mTrue\u001b[39;49;00m\u001b[43m,\u001b[49m\n\u001b[1;32m   1016\u001b[0m \u001b[43m    \u001b[49m\u001b[43mlist_to_choice\u001b[49m\u001b[38;5;241;43m=\u001b[39;49m\u001b[38;5;28;43;01mTrue\u001b[39;49;00m\u001b[43m,\u001b[49m\u001b[43m \u001b[49m\u001b[43mallow_floats\u001b[49m\u001b[38;5;241;43m=\u001b[39;49m\u001b[38;5;28;43;01mFalse\u001b[39;49;00m\u001b[43m)\u001b[49m\n",
      "File \u001b[0;32m~/miniconda3/envs/biteme/lib/python3.10/site-packages/imgaug/parameters.py:153\u001b[0m, in \u001b[0;36mhandle_discrete_param\u001b[0;34m(param, name, value_range, tuple_to_uniform, list_to_choice, allow_floats)\u001b[0m\n\u001b[1;32m    151\u001b[0m allowed_type \u001b[38;5;241m=\u001b[39m \u001b[38;5;124m\"\u001b[39m\u001b[38;5;124mnumber\u001b[39m\u001b[38;5;124m\"\u001b[39m \u001b[38;5;28;01mif\u001b[39;00m allow_floats \u001b[38;5;28;01melse\u001b[39;00m \u001b[38;5;124m\"\u001b[39m\u001b[38;5;124mint\u001b[39m\u001b[38;5;124m\"\u001b[39m\n\u001b[1;32m    152\u001b[0m list_str \u001b[38;5;241m=\u001b[39m \u001b[38;5;124m\"\u001b[39m\u001b[38;5;124m, list of \u001b[39m\u001b[38;5;132;01m%s\u001b[39;00m\u001b[38;5;124m\"\u001b[39m \u001b[38;5;241m%\u001b[39m (allowed_type,) \u001b[38;5;28;01mif\u001b[39;00m list_to_choice \u001b[38;5;28;01melse\u001b[39;00m \u001b[38;5;124m\"\u001b[39m\u001b[38;5;124m\"\u001b[39m\n\u001b[0;32m--> 153\u001b[0m \u001b[38;5;28;01mraise\u001b[39;00m \u001b[38;5;167;01mException\u001b[39;00m(\n\u001b[1;32m    154\u001b[0m     \u001b[38;5;124m\"\u001b[39m\u001b[38;5;124mExpected \u001b[39m\u001b[38;5;132;01m%s\u001b[39;00m\u001b[38;5;124m, tuple of two \u001b[39m\u001b[38;5;132;01m%s\u001b[39;00m\u001b[38;5;132;01m%s\u001b[39;00m\u001b[38;5;124m or StochasticParameter for \u001b[39m\u001b[38;5;132;01m%s\u001b[39;00m\u001b[38;5;124m, \u001b[39m\u001b[38;5;124m\"\u001b[39m\n\u001b[1;32m    155\u001b[0m     \u001b[38;5;124m\"\u001b[39m\u001b[38;5;124mgot \u001b[39m\u001b[38;5;132;01m%s\u001b[39;00m\u001b[38;5;124m.\u001b[39m\u001b[38;5;124m\"\u001b[39m \u001b[38;5;241m%\u001b[39m (\n\u001b[1;32m    156\u001b[0m         allowed_type, allowed_type, list_str, name, \u001b[38;5;28mtype\u001b[39m(param),))\n",
      "\u001b[0;31mException\u001b[0m: Expected int, tuple of two int, list of int or StochasticParameter for severity, got <class 'float'>."
     ]
    }
   ],
   "source": [
    "# Example preprocessing run\n",
    "X_train_aug, y_train_aug = get_augs(\n",
    "    imgs_raw=X_train, \n",
    "    labels_raw=y_train,\n",
    "    augs=augs,\n",
    "    keep_originals=True,\n",
    "    verbose=VERBOSE\n",
    ")"
   ]
  },
  {
   "cell_type": "code",
   "execution_count": null,
   "id": "bf2dd79f",
   "metadata": {},
   "outputs": [],
   "source": []
  },
  {
   "cell_type": "code",
   "execution_count": null,
   "id": "ece1f073",
   "metadata": {},
   "outputs": [],
   "source": []
  },
  {
   "cell_type": "code",
   "execution_count": null,
   "id": "cd3d870c",
   "metadata": {},
   "outputs": [],
   "source": []
  },
  {
   "cell_type": "code",
   "execution_count": null,
   "id": "93f2db7e",
   "metadata": {},
   "outputs": [],
   "source": []
  },
  {
   "cell_type": "code",
   "execution_count": null,
   "id": "969e6c7f",
   "metadata": {},
   "outputs": [],
   "source": []
  },
  {
   "cell_type": "code",
   "execution_count": null,
   "id": "9849f0c7",
   "metadata": {},
   "outputs": [],
   "source": []
  },
  {
   "cell_type": "code",
   "execution_count": null,
   "id": "089d012c",
   "metadata": {},
   "outputs": [],
   "source": []
  },
  {
   "cell_type": "code",
   "execution_count": null,
   "id": "00d18611",
   "metadata": {},
   "outputs": [],
   "source": []
  }
 ],
 "metadata": {
  "kernelspec": {
   "display_name": "biteme",
   "language": "python",
   "name": "biteme"
  },
  "language_info": {
   "codemirror_mode": {
    "name": "ipython",
    "version": 3
   },
   "file_extension": ".py",
   "mimetype": "text/x-python",
   "name": "python",
   "nbconvert_exporter": "python",
   "pygments_lexer": "ipython3",
   "version": "3.10.5"
  }
 },
 "nbformat": 4,
 "nbformat_minor": 5
}
