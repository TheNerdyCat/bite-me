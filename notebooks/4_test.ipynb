{
 "cells": [
  {
   "cell_type": "code",
   "execution_count": null,
   "id": "065ca096",
   "metadata": {},
   "outputs": [],
   "source": []
  },
  {
   "cell_type": "code",
   "execution_count": null,
   "id": "6f63d95c",
   "metadata": {},
   "outputs": [],
   "source": [
    "# Generate model output for validation\n",
    "X_val = torch.from_numpy(X_train[val_index]).permute(0, 3, 1, 2).float()\n",
    "\n",
    "# Load fold's model\n",
    "model = CoolSystem(hparams)\n",
    "model.load_state_dict(\n",
    "    torch.load(\n",
    "        os.path.join(\n",
    "            hparams.log_dir, \"2022_09_13_09:40:01\", \"fold=0-epoch=10-val_loss=2.0033-val_roc_auc=0.6759.ckpt\"\n",
    "        )\n",
    "    )[\"state_dict\"]\n",
    ")\n",
    "\n",
    "preds = model(X_val)\n",
    "\n",
    "# Create activation output\n",
    "log_softmax = torch.nn.LogSoftmax(dim=-1)\n",
    "\n",
    "# Convert raw output to probabilities\n",
    "preds = np.exp(log_softmax(preds).detach().numpy())\n",
    "\n",
    "# Create df with img paths and predicted label probs\n",
    "scores_df = pd.DataFrame(preds, columns=val_data.columns[1:])\n",
    "scores_df = pd.merge(\n",
    "    metadata.iloc[val_index, 1:3].reset_index(drop=True),\n",
    "    scores_df, \n",
    "    left_index=True,\n",
    "    right_index=True\n",
    ")\n",
    "# Write predictions to log\n",
    "scores_df.to_csv(\n",
    "    os.path.join(hparams.log_dir, hparams.log_name, f\"{hparams.log_name}_preds_fold_{fold_i}.csv\"),\n",
    "    index=False\n",
    ")\n",
    "\n",
    "# Cleanup\n",
    "del model\n",
    "gc.collect()\n",
    "torch.cuda.empty_cache()\n"
   ]
  },
  {
   "cell_type": "code",
   "execution_count": null,
   "id": "bae25fa7",
   "metadata": {},
   "outputs": [],
   "source": []
  },
  {
   "cell_type": "code",
   "execution_count": null,
   "id": "3d6b5eb4",
   "metadata": {},
   "outputs": [],
   "source": []
  },
  {
   "cell_type": "code",
   "execution_count": null,
   "id": "618a816e",
   "metadata": {},
   "outputs": [],
   "source": []
  },
  {
   "cell_type": "code",
   "execution_count": null,
   "id": "b278a4de",
   "metadata": {},
   "outputs": [],
   "source": []
  },
  {
   "cell_type": "code",
   "execution_count": null,
   "id": "a0208cbf",
   "metadata": {},
   "outputs": [],
   "source": []
  },
  {
   "cell_type": "code",
   "execution_count": null,
   "id": "0b729b6a",
   "metadata": {},
   "outputs": [],
   "source": []
  },
  {
   "cell_type": "code",
   "execution_count": null,
   "id": "ff494cfd",
   "metadata": {},
   "outputs": [],
   "source": []
  },
  {
   "cell_type": "code",
   "execution_count": null,
   "id": "ce7ae1b3",
   "metadata": {},
   "outputs": [],
   "source": []
  },
  {
   "cell_type": "code",
   "execution_count": null,
   "id": "95c85c8b",
   "metadata": {},
   "outputs": [],
   "source": []
  },
  {
   "cell_type": "code",
   "execution_count": null,
   "id": "d7332136",
   "metadata": {},
   "outputs": [],
   "source": []
  },
  {
   "cell_type": "code",
   "execution_count": null,
   "id": "e4968720",
   "metadata": {},
   "outputs": [],
   "source": []
  },
  {
   "cell_type": "code",
   "execution_count": null,
   "id": "9efa07b0",
   "metadata": {},
   "outputs": [],
   "source": []
  },
  {
   "cell_type": "code",
   "execution_count": null,
   "id": "f4053c09",
   "metadata": {},
   "outputs": [],
   "source": []
  }
 ],
 "metadata": {
  "kernelspec": {
   "display_name": "Python 3",
   "language": "python",
   "name": "python3"
  },
  "language_info": {
   "codemirror_mode": {
    "name": "ipython",
    "version": 3
   },
   "file_extension": ".py",
   "mimetype": "text/x-python",
   "name": "python",
   "nbconvert_exporter": "python",
   "pygments_lexer": "ipython3",
   "version": "3.6.8"
  }
 },
 "nbformat": 4,
 "nbformat_minor": 5
}
