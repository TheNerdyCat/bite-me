{
 "cells": [
  {
   "cell_type": "markdown",
   "id": "c29cb011",
   "metadata": {},
   "source": [
    "# BiteMe | Data Definition\n",
    "\n",
    "In this notebook we source and download all available data on insect bites and stings. We hash files (if neccessary), resize and re-write the images to a separate directory. Metadata is also created for both raw and cleaned images based on the folder structure.\n",
    "\n",
    "N.B. This will be explored more ~in v2 if we decide to progress to that."
   ]
  },
  {
   "cell_type": "code",
   "execution_count": 1,
   "id": "8b15a04a",
   "metadata": {},
   "outputs": [],
   "source": [
    "import os\n",
    "import sys\n",
    "\n",
    "sys.path.append(\"..\")\n",
    "from helpers import create_metadata, read_images"
   ]
  },
  {
   "cell_type": "code",
   "execution_count": 2,
   "id": "0f982001",
   "metadata": {},
   "outputs": [],
   "source": [
    "# Define directories\n",
    "base_dir_path = \"../\"\n",
    "\n",
    "data_dir_path = os.path.join(base_dir_path, \"data\")\n",
    "data_raw_dir_path = os.path.join(data_dir_path, \"raw\")\n",
    "data_clean_dir_path = os.path.join(data_dir_path, \"cleaned\")"
   ]
  },
  {
   "cell_type": "markdown",
   "id": "6fd2dd23",
   "metadata": {},
   "source": [
    "## Rename images to its hash"
   ]
  },
  {
   "cell_type": "code",
   "execution_count": 3,
   "id": "4570305e",
   "metadata": {},
   "outputs": [],
   "source": [
    "# UNCOMMENT ONLY IF READY TO RENAME AND OVERWRITE FILES!\n",
    "# CREATE BACKUPS IF NECCESSARY!\n",
    "\n",
    "##hash_files(data_raw_dir_path)"
   ]
  },
  {
   "cell_type": "markdown",
   "id": "ecbb5e8d",
   "metadata": {},
   "source": [
    "## Create raw metadata.csv"
   ]
  },
  {
   "cell_type": "code",
   "execution_count": 4,
   "id": "75189fc5",
   "metadata": {},
   "outputs": [],
   "source": [
    "# Create metadata csv\n",
    "create_metadata(data_raw_dir_path).to_csv(f\"{data_raw_dir_path}/metadata.csv\", index=False)"
   ]
  },
  {
   "cell_type": "markdown",
   "id": "c62f1d45",
   "metadata": {},
   "source": [
    "## Resize and re-write images"
   ]
  },
  {
   "cell_type": "code",
   "execution_count": 5,
   "id": "88aa5cd5",
   "metadata": {
    "scrolled": true
   },
   "outputs": [
    {
     "name": "stdout",
     "output_type": "stream",
     "text": [
      "Reading images from: ../data/raw\n",
      "Rows set to 512\n",
      "Columns set to 512\n",
      "Channels set to 3\n",
      "\n",
      "Writing images to disk!\n",
      "Writing images to: ../data/cleaned\n",
      "Reading images...\n"
     ]
    },
    {
     "name": "stderr",
     "output_type": "stream",
     "text": [
      "100%|██████████| 28/28 [00:00<00:00, 28.60it/s]\n",
      "100%|██████████| 29/29 [00:00<00:00, 45.70it/s]\n",
      "100%|██████████| 23/23 [00:00<00:00, 43.37it/s]\n",
      "100%|██████████| 28/28 [00:01<00:00, 25.02it/s]\n",
      "100%|██████████| 28/28 [00:00<00:00, 32.29it/s]\n",
      "100%|██████████| 24/24 [00:01<00:00, 20.62it/s]\n",
      "100%|██████████| 28/28 [00:01<00:00, 21.63it/s]\n",
      "100%|██████████| 26/26 [00:01<00:00, 16.20it/s]\n"
     ]
    },
    {
     "name": "stdout",
     "output_type": "stream",
     "text": [
      "Image reading complete.\n",
      "Image array shape: (214, 512, 512, 3)\n"
     ]
    }
   ],
   "source": [
    "# Read images, resize and write to cleaned directory\n",
    "img_array = read_images(\n",
    "    data_dir_path=data_raw_dir_path, \n",
    "    rows=512, \n",
    "    cols=512, \n",
    "    channels=3, \n",
    "    write_images=True, \n",
    "    output_data_dir_path=data_clean_dir_path\n",
    ")\n",
    "\n",
    "# Create metadata for cleaned images\n",
    "create_metadata(data_clean_dir_path).to_csv(f\"{data_clean_dir_path}/metadata.csv\", index=False)"
   ]
  },
  {
   "cell_type": "code",
   "execution_count": null,
   "id": "541d8d91",
   "metadata": {},
   "outputs": [],
   "source": []
  },
  {
   "cell_type": "code",
   "execution_count": null,
   "id": "10f0d56f",
   "metadata": {},
   "outputs": [],
   "source": []
  }
 ],
 "metadata": {
  "kernelspec": {
   "display_name": "venv",
   "language": "python",
   "name": "venv"
  },
  "language_info": {
   "codemirror_mode": {
    "name": "ipython",
    "version": 3
   },
   "file_extension": ".py",
   "mimetype": "text/x-python",
   "name": "python",
   "nbconvert_exporter": "python",
   "pygments_lexer": "ipython3",
   "version": "3.6.8"
  }
 },
 "nbformat": 4,
 "nbformat_minor": 5
}
